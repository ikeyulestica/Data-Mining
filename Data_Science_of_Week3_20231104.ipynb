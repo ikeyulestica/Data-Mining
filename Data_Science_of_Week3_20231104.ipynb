{
  "nbformat": 4,
  "nbformat_minor": 0,
  "metadata": {
    "colab": {
      "provenance": [],
      "include_colab_link": true
    },
    "kernelspec": {
      "name": "python3",
      "display_name": "Python 3"
    },
    "language_info": {
      "name": "python"
    }
  },
  "cells": [
    {
      "cell_type": "markdown",
      "metadata": {
        "id": "view-in-github",
        "colab_type": "text"
      },
      "source": [
        "<a href=\"https://colab.research.google.com/github/ikeyulestica/Data-Mining/blob/main/Data_Science_of_Week3_20231104.ipynb\" target=\"_parent\"><img src=\"https://colab.research.google.com/assets/colab-badge.svg\" alt=\"Open In Colab\"/></a>"
      ]
    },
    {
      "cell_type": "markdown",
      "source": [
        "# **Week 03: If Statement**"
      ],
      "metadata": {
        "id": "wAJzPiuPfytH"
      }
    },
    {
      "cell_type": "code",
      "execution_count": null,
      "metadata": {
        "id": "K3kRlxvX6A7L"
      },
      "outputs": [],
      "source": [
        "# Exercise 1\n",
        "cars = ['audi', 'bmw', 'subaru', 'toyota']\n",
        "\n"
      ]
    },
    {
      "cell_type": "code",
      "source": [
        "# Exercise 2\n",
        "requested_topping = 'anchovies'\n",
        "\n",
        "requested_topping = 'anchovies'\n",
        "if requested_topping != 'anchovies':\n",
        "    print('Hold the anchovies')\n",
        "else:\n",
        "    print ('Please serve the anchovies fast!!!!')\n"
      ],
      "metadata": {
        "id": "fviS0BYz8fUO",
        "colab": {
          "base_uri": "https://localhost:8080/"
        },
        "outputId": "c25b9748-23dc-4484-8242-19fab6a095d3"
      },
      "execution_count": null,
      "outputs": [
        {
          "output_type": "stream",
          "name": "stdout",
          "text": [
            "Please serve the anchovies fast!!!!\n"
          ]
        }
      ]
    },
    {
      "cell_type": "code",
      "source": [
        "# Exercise 3\n",
        "age_0 = 22\n",
        "age_1 = 18"
      ],
      "metadata": {
        "id": "hV59aeSw8uSF"
      },
      "execution_count": null,
      "outputs": []
    },
    {
      "cell_type": "code",
      "source": [
        "# Checking using different condition\n",
        "# age_0 < 21 and age_1 < 21 -FALSE\n",
        "# age_0 < 21 or age_1 < 21 -TRUE\n",
        "# age_0 >= 21 and age_1 >= 21 - FALSE\n",
        "# age_0 >= 21 or age_1 >= 21 -TRUE\n",
        "# age_0 >= 21 and age_1 >= 21 -FALSE\n"
      ],
      "metadata": {
        "id": "69W0k1_NgKOS"
      },
      "execution_count": null,
      "outputs": []
    },
    {
      "cell_type": "markdown",
      "source": [
        "# **A point of ponder :)**"
      ],
      "metadata": {
        "id": "Wk6VCX9djopY"
      }
    },
    {
      "cell_type": "code",
      "source": [
        "# What would the following code evaluate to? True or False?\n",
        "# and why?\n",
        "age_0 and age_1 > 21"
      ],
      "metadata": {
        "id": "9xZGmLTVkHlh",
        "colab": {
          "base_uri": "https://localhost:8080/"
        },
        "outputId": "80867094-baad-4fb2-839d-3d92794da7b7"
      },
      "execution_count": null,
      "outputs": [
        {
          "output_type": "execute_result",
          "data": {
            "text/plain": [
              "False"
            ]
          },
          "metadata": {},
          "execution_count": 7
        }
      ]
    },
    {
      "cell_type": "code",
      "source": [
        "22 and True"
      ],
      "metadata": {
        "colab": {
          "base_uri": "https://localhost:8080/"
        },
        "id": "zgwsQZmsJ2YV",
        "outputId": "24656920-1925-4f72-abcd-563cdf15f2e7"
      },
      "execution_count": null,
      "outputs": [
        {
          "output_type": "execute_result",
          "data": {
            "text/plain": [
              "True"
            ]
          },
          "metadata": {},
          "execution_count": 6
        }
      ]
    },
    {
      "cell_type": "code",
      "source": [
        "# Exercise 4 - using the keyword 'in'\n",
        "requested_topping = ['mushrooms', 'onions', 'pineapple']\n",
        "\n",
        "# Check whether mushrooms is in the topping list\n",
        "#case sensitive\n",
        "'mushrooms' in requested_topping\n",
        "# Check whether pepperoni is in the topping list\n",
        "'pepperoni'in requested_topping\n"
      ],
      "metadata": {
        "id": "z5wPseRl-VyI",
        "colab": {
          "base_uri": "https://localhost:8080/"
        },
        "outputId": "fe5ba650-d491-4adb-a4d2-4334ca8717c4"
      },
      "execution_count": null,
      "outputs": [
        {
          "output_type": "execute_result",
          "data": {
            "text/plain": [
              "False"
            ]
          },
          "metadata": {},
          "execution_count": 9
        }
      ]
    },
    {
      "cell_type": "code",
      "source": [
        "# Exercise 5 check whether the value is not in the list\n",
        "banned_users = ['andrew', 'carolina', 'david']\n",
        "\n",
        "# Check whether marie, 007 and andrew is in the banned user list\n",
        "user = 'marie'\n",
        "if user not in banned_users:\n",
        "    print(user.title() + ', you can post a response if you wish.')\n",
        "\n",
        "user = '7'\n",
        "if user not in banned_users:\n",
        "    print(str(user) + ', you can post a response if you wish.')\n",
        "\n",
        "user = 'andrew'\n",
        "if user not in banned_users or user == 'andrew':\n",
        "    print(user.title() + ', you can post a response if you wish.')\n"
      ],
      "metadata": {
        "id": "RWb1iy4I-eFb",
        "colab": {
          "base_uri": "https://localhost:8080/"
        },
        "outputId": "e2f87041-06c8-429d-d607-f8aea636cef6"
      },
      "execution_count": null,
      "outputs": [
        {
          "output_type": "stream",
          "name": "stdout",
          "text": [
            "Marie, you can post a response if you wish.\n",
            "7, you can post a response if you wish.\n",
            "Andrew, you can post a response if you wish.\n"
          ]
        }
      ]
    },
    {
      "cell_type": "code",
      "source": [
        "# Try it yourself\n",
        "# Try making sense of it\n",
        "car = 'subaru'\n",
        "print(\"Is car == 'subaru'? I predict True.\")\n",
        "print(car == \"subaru\")  ##this is a logical comparison; not printing string\n",
        "\n",
        "print(\"\\nIs car == 'audi'? I predict False\")\n",
        "print(car == 'audi')   ##this is a logical comparison; not printing string"
      ],
      "metadata": {
        "id": "Usq-CnrjCi71",
        "colab": {
          "base_uri": "https://localhost:8080/"
        },
        "outputId": "a4f37f1b-dc77-49e1-a508-523758bce0ee"
      },
      "execution_count": null,
      "outputs": [
        {
          "output_type": "stream",
          "name": "stdout",
          "text": [
            "Is car == 'subaru'? I predict True.\n",
            "True\n",
            "\n",
            "Is car == 'audi'? I predict False\n",
            "False\n"
          ]
        }
      ]
    },
    {
      "cell_type": "code",
      "source": [
        "# If statement\n",
        "age = 18\n",
        "\n",
        "if age >= 18:\n",
        "  print(\"You are old enough to vote!\")\n",
        "  print(\"Have you registered to vote yet?\")\n",
        "  print(\"Oh ya, tak yah register pun\")\n",
        "else:\n",
        "  print(\"Too bad.. You would to wait for GE17\")\n"
      ],
      "metadata": {
        "id": "BN5LXsVWDN_b",
        "colab": {
          "base_uri": "https://localhost:8080/"
        },
        "outputId": "18194442-f9fb-48a5-8c80-4136398e2d80"
      },
      "execution_count": null,
      "outputs": [
        {
          "output_type": "stream",
          "name": "stdout",
          "text": [
            "You are old enough to vote!\n",
            "Have you registered to vote yet?\n",
            "Oh ya, tak yah register pun\n"
          ]
        }
      ]
    },
    {
      "cell_type": "code",
      "source": [
        "# Given the if-elif-else statement\n",
        "age = 55\n",
        "if age < 4:\n",
        "    print(\"Your admission rate is RM0.\")\n",
        "elif age < 18:\n",
        "    print(\"Your admission rate is RM5.\")\n",
        "else:\n",
        "    print(\"Your admission rate is RM10.\")"
      ],
      "metadata": {
        "colab": {
          "base_uri": "https://localhost:8080/"
        },
        "id": "5lNf9lMgEO4H",
        "outputId": "c85b1036-d03d-4c5d-8706-4e78c6debeea"
      },
      "execution_count": null,
      "outputs": [
        {
          "output_type": "stream",
          "name": "stdout",
          "text": [
            "Your admission rate is RM10.\n"
          ]
        }
      ]
    },
    {
      "cell_type": "code",
      "source": [
        "user = 7"
      ],
      "metadata": {
        "id": "pxL9FaauTH9q"
      },
      "execution_count": null,
      "outputs": []
    },
    {
      "cell_type": "code",
      "source": [
        "# Exercise 6 - Revising the previous code for a cleaner version\n",
        "user = 'andrew'\n",
        "age = 67\n",
        "\n",
        "if age < 4:\n",
        "    rate = 0\n",
        "elif age < 18:\n",
        "    rate = 5\n",
        "elif age < 65:\n",
        "    rate = 10\n",
        "else:\n",
        "    rate = 5\n",
        "\n",
        "    print(\"Your admission rate is RM\" + str(rate) + \", \" + user.title() + \".\")\n",
        "\n"
      ],
      "metadata": {
        "id": "litAhuvSGR6l",
        "colab": {
          "base_uri": "https://localhost:8080/"
        },
        "outputId": "2eea5164-5e09-4de8-ce45-2a27d5804020"
      },
      "execution_count": null,
      "outputs": [
        {
          "output_type": "stream",
          "name": "stdout",
          "text": [
            "Your admission rate is RM5, Andrew.\n"
          ]
        }
      ]
    },
    {
      "cell_type": "code",
      "source": [
        "# Exercise 7 - end the code using elif for easier interpretation\n",
        "\n",
        "age = 67\n",
        "if age < 4:\n",
        "    rate = 0\n",
        "elif age < 18:\n",
        "    rate = 5\n",
        "elif age < 65:\n",
        "    rate = 10\n",
        "else:\n",
        "    rate = 5\n",
        "\n",
        "print(\"Your admission rate is RM\" + str(rate) + \", \" + user.title() + \".\")\n",
        "\n"
      ],
      "metadata": {
        "id": "T6AvirgKHEWz",
        "colab": {
          "base_uri": "https://localhost:8080/"
        },
        "outputId": "1e1f93d9-7a00-47d5-d2d2-f8b1d9b31a07"
      },
      "execution_count": null,
      "outputs": [
        {
          "output_type": "stream",
          "name": "stdout",
          "text": [
            "Your admission rate is RM5, Andrew.\n"
          ]
        }
      ]
    },
    {
      "cell_type": "code",
      "source": [
        "# Exercise 8 - multiple if\n",
        "requested_topping = ['mushrooms', 'extra cheese']\n",
        "\n",
        "if 'mushrooms' in requested_topping:\n",
        "    print(\"Adding mushrooms\")\n",
        "if 'pepperoni' in requested_topping:\n",
        "    print (\"Adding pepperoni\")\n",
        "if 'extra cheese' in requested_topping:\n",
        "    print (\"Adding extra cheese\")\n",
        "\n",
        "print(\"\\nFinshed making your pizza!!!\")"
      ],
      "metadata": {
        "id": "FUPOtDHjXZAr",
        "colab": {
          "base_uri": "https://localhost:8080/"
        },
        "outputId": "34bc701f-e3d1-4491-a1df-6770fe2b6bd0"
      },
      "execution_count": null,
      "outputs": [
        {
          "output_type": "stream",
          "name": "stdout",
          "text": [
            "Adding mushrooms\n",
            "Adding extra cheese\n",
            "\n",
            "Finshed making your pizza!!!\n"
          ]
        }
      ]
    },
    {
      "cell_type": "code",
      "source": [
        "# Exercise 9 - To check for special conditions / items\n",
        "requested_toppings = ['mushrooms', 'extra cheese', 'green peppers']\n",
        "\n",
        "for requested_toppings in requested_toppings:\n",
        "    if requested_toppings == 'green peppers':\n",
        "            print(\"Sorry, we are out of green peppers right now!!!\")\n",
        "    else:\n",
        "        print(\"Adding \" + requested_toppings + \".\")\n",
        "\n",
        "print(\"\\nFinished making pizza!\")\n"
      ],
      "metadata": {
        "id": "sy9baNJxYusX",
        "colab": {
          "base_uri": "https://localhost:8080/"
        },
        "outputId": "3260cf5a-301f-42a2-a670-3389fe6e3f5f"
      },
      "execution_count": null,
      "outputs": [
        {
          "output_type": "stream",
          "name": "stdout",
          "text": [
            "Adding mushrooms.\n",
            "Adding extra cheese.\n",
            "Sorry, we are out of green peppers right now!!!\n",
            "\n",
            "Finished making pizza!\n"
          ]
        }
      ]
    },
    {
      "cell_type": "code",
      "source": [
        "#Exercise 10\n",
        "#Identation is very important\n",
        "requested_toppings = []\n",
        "\n",
        "if requested_toppings:\n",
        "    for requested_topping in requested_toppings:\n",
        "        print(\"Adding \" + requested_topping + \".\")\n",
        "        print(\"\\nFinished making your pizza!!\")\n",
        "else:\n",
        "    print(\"Are you sure you want to make a plain pizza?\")\n"
      ],
      "metadata": {
        "id": "s_0W3DsnUq02",
        "colab": {
          "base_uri": "https://localhost:8080/"
        },
        "outputId": "d721aad1-36f0-4249-ad55-e1afab982c6a"
      },
      "execution_count": null,
      "outputs": [
        {
          "output_type": "stream",
          "name": "stdout",
          "text": [
            "Are you sure you want to make a plain pizza?\n"
          ]
        }
      ]
    },
    {
      "cell_type": "code",
      "source": [
        "# Exercise 11 - Using multiple lists\n",
        "available_toppings = ['mushrooms', 'olives', 'green peppers', 'pepperoni',\n",
        "                      'pineapple', 'extra cheese']\n",
        "requested_toppings = ['mushrooms', 'french fries', 'extra cheese', 'crab meat']\n",
        "\n",
        "for requested_topping in requested_toppings:\n",
        "    if requested_topping in available_toppings:\n",
        "        print(\"Adding \" + requested_topping + \".\")\n",
        "    else:\n",
        "        print(\"Sorry, we don't have \" + requested_topping + \"!\")\n",
        "\n",
        "print(\"\\nFinished making pizza!\")\n"
      ],
      "metadata": {
        "id": "j4EyZ_3KhSAR",
        "colab": {
          "base_uri": "https://localhost:8080/"
        },
        "outputId": "449e3331-b795-4834-aa75-69f6806bb062"
      },
      "execution_count": null,
      "outputs": [
        {
          "output_type": "stream",
          "name": "stdout",
          "text": [
            "Adding mushrooms.\n",
            "Sorry, we don't have french fries!\n",
            "Adding extra cheese.\n",
            "Sorry, we don't have crab meat!\n",
            "\n",
            "Finished making pizza!\n"
          ]
        }
      ]
    },
    {
      "cell_type": "code",
      "source": [
        "# Exercise 12 - Accessing the value using the key in dictionary\n",
        "alien_0 = {'color': 'green', 'points':5}\n",
        "\n",
        "# get the alien's color\n",
        "print(alien_0['color'])\n",
        "\n",
        "# get the alien's point\n",
        "print(alien_0['points'])"
      ],
      "metadata": {
        "id": "DmUQQo0li7bg",
        "colab": {
          "base_uri": "https://localhost:8080/"
        },
        "outputId": "9d0614c1-06df-4cd5-c718-44115e6e6013"
      },
      "execution_count": null,
      "outputs": [
        {
          "output_type": "stream",
          "name": "stdout",
          "text": [
            "green\n",
            "5\n"
          ]
        }
      ]
    },
    {
      "cell_type": "code",
      "source": [
        "#getting back this alien_0 dictionary"
      ],
      "metadata": {
        "id": "cPv_lZ5Deakd"
      },
      "execution_count": null,
      "outputs": []
    },
    {
      "cell_type": "code",
      "source": [
        "# Start building the alien_0 dictionary from scratch\n",
        "alien_0 = {}\n",
        "alien_0['color'] = 'green'\n",
        "alien_0['points'] = 5\n"
      ],
      "metadata": {
        "id": "w1jfQOdDayLN"
      },
      "execution_count": null,
      "outputs": []
    },
    {
      "cell_type": "code",
      "source": [
        "alien_0"
      ],
      "metadata": {
        "colab": {
          "base_uri": "https://localhost:8080/"
        },
        "id": "emud4BEneaVW",
        "outputId": "8b5eefda-3e7c-4537-dba5-9a675c71288f"
      },
      "execution_count": null,
      "outputs": [
        {
          "output_type": "execute_result",
          "data": {
            "text/plain": [
              "{'color': 'green', 'points': 5}"
            ]
          },
          "metadata": {},
          "execution_count": 67
        }
      ]
    },
    {
      "cell_type": "code",
      "source": [
        "# Exercise 13 - extract the value from the dictionary\n",
        "# put in a variable called new_points\n",
        "# Print out the value\n",
        "alien_0 = {'color': 'green', 'points':5}\n",
        "\n",
        "\n",
        "new_points = alien_0['points']\n",
        "print(\"You just earned \" + str(new_points) + \" points.\")\n"
      ],
      "metadata": {
        "id": "Dg5C29oafPu5",
        "colab": {
          "base_uri": "https://localhost:8080/"
        },
        "outputId": "c185366d-949e-430c-cdfa-c1e3bb64a45f"
      },
      "execution_count": null,
      "outputs": [
        {
          "output_type": "stream",
          "name": "stdout",
          "text": [
            "You just earned 5 points.\n"
          ]
        }
      ]
    },
    {
      "cell_type": "code",
      "source": [
        "# Exercise 14 - change the color value to indigo in the dictionary\n",
        "alien_0 = {'color': 'green', 'points':5}\n",
        "\n",
        "# Change alien color\n",
        "alien_0['color'] = 'indigo'\n",
        "\n",
        "# Print out the new color\n",
        "print(\"The alien now is \" + alien_0['color'] + \".\")\n",
        "\n",
        "\n"
      ],
      "metadata": {
        "id": "aqLdYAec4UJi",
        "colab": {
          "base_uri": "https://localhost:8080/"
        },
        "outputId": "91b12b2f-a990-4c55-e9de-4cf0b0225344"
      },
      "execution_count": null,
      "outputs": [
        {
          "output_type": "stream",
          "name": "stdout",
          "text": [
            "The alien now is indigo.\n"
          ]
        }
      ]
    },
    {
      "cell_type": "code",
      "source": [
        "# Exercise 15 - change the value in the dictionary; using if-elif-else statement\n",
        "alien_0 = {'x_position': 0, 'y_position': 25, 'speed': 'fast'}\n",
        "\n",
        "# Move the alien to the right.\n",
        "# Determine how far to move the alien based on its current speed.\n",
        "if alien_0['speed'] == 'slow':\n",
        "    increment = 1\n",
        "elif alien_0['speed'] == 'medium':\n",
        "    increment = 2\n",
        "else:\n",
        "    increment = 3\n",
        "# The new position is the old position plus the increment.\n",
        "#Dr Bernard answer alien_0['x_position'] + x_increment\n",
        "alien_0['x_position'] += increment\n",
        "\n",
        "#Print the new position\n",
        "print(\"New x-position: \" + str(alien_0['x_position']))\n",
        "\n",
        "print(alien_0)\n",
        "\n",
        "\n"
      ],
      "metadata": {
        "id": "vfDw_r_L5jPz",
        "colab": {
          "base_uri": "https://localhost:8080/"
        },
        "outputId": "f561a13e-f018-43c6-b41a-8b2fb29e1a1a"
      },
      "execution_count": null,
      "outputs": [
        {
          "output_type": "stream",
          "name": "stdout",
          "text": [
            "New x-position: 3\n",
            "{'x_position': 3, 'y_position': 25, 'speed': 'fast'}\n"
          ]
        }
      ]
    },
    {
      "cell_type": "code",
      "source": [
        "# Exercise 16 - using del() function\n",
        "alien_0 = {'color': 'green', 'points': 5}\n",
        "\n",
        "\n",
        "# Delete the points from the dictionary\n",
        "del alien_0['points']\n",
        "\n",
        "# Print the modified dictionary to confirm the removal of 'points'\n",
        "print(alien_0)\n"
      ],
      "metadata": {
        "id": "efbBa0SB6hlj",
        "colab": {
          "base_uri": "https://localhost:8080/"
        },
        "outputId": "dca561be-2470-4092-bde3-517c2da2608b"
      },
      "execution_count": null,
      "outputs": [
        {
          "output_type": "stream",
          "name": "stdout",
          "text": [
            "{'color': 'green'}\n"
          ]
        }
      ]
    },
    {
      "cell_type": "code",
      "source": [
        "# Exercise 17 - break dictionary into several lines\n",
        "fav_prog = {\n",
        "    'jen': 'python',\n",
        "    'sarah': 'c',\n",
        "    'edward': 'ruby',\n",
        "    'phil': 'python',\n",
        "}\n",
        "\n",
        "sarah_language = fav_prog['phil'].replace('python', 'Phyton')\n",
        "print(\"Phil's favorite language is \" + fav_prog['phil'])\n",
        "\n",
        "\n",
        "#print(\"phil's favourite language is \" +\n",
        "      #fav_prog['phil'].title() + '.')"
      ],
      "metadata": {
        "id": "KtsGcBJC8MBy",
        "colab": {
          "base_uri": "https://localhost:8080/"
        },
        "outputId": "b1ec3133-b718-4457-b21d-1b0b375b0101"
      },
      "execution_count": null,
      "outputs": [
        {
          "output_type": "stream",
          "name": "stdout",
          "text": [
            "Phil's favorite language is python\n"
          ]
        }
      ]
    },
    {
      "cell_type": "code",
      "source": [
        "# Exercise 18 - print out the key-value pairs using item() function\n",
        "\n",
        "fav_prog = {\n",
        "    'jen': 'Python',\n",
        "    'sarah': 'C',\n",
        "    'edward': 'Ruby',\n",
        "    'phil': 'Python',\n",
        "}\n",
        " #using the for function\n",
        "for name, subject in fav_prog.items():\n",
        "    print(name.title() + \"'s favorite language is \" + subject.title() + \".\")\n",
        "\n",
        "\n",
        "\n"
      ],
      "metadata": {
        "colab": {
          "base_uri": "https://localhost:8080/"
        },
        "id": "piktzd1c9b7c",
        "outputId": "39617468-139e-4743-bba9-ad84d330a953"
      },
      "execution_count": null,
      "outputs": [
        {
          "output_type": "stream",
          "name": "stdout",
          "text": [
            "Jen's favorite language is Python.\n",
            "Sarah's favorite language is C.\n",
            "Edward's favorite language is Ruby.\n",
            "Phil's favorite language is Python.\n"
          ]
        }
      ]
    },
    {
      "cell_type": "code",
      "source": [
        "# Exercise 19 - print out the key-value pairs using key() function\n",
        "favorite_languages = {\n",
        "    'jen': 'python',\n",
        "    'sarah': 'c',\n",
        "    'edward': 'ruby',\n",
        "    'phil': 'python',\n",
        "    }\n",
        "\n",
        "friends = ['phil','sarah']\n",
        "\n",
        "for name in fav_prog.keys():\n",
        "    if name in friends:\n",
        "        print(\"Hi \"+ name.title() +\n",
        "              \", your fav_language is \" +\n",
        "              fav_prog[name].title() + \"!\")\n",
        "\n"
      ],
      "metadata": {
        "id": "HDxDyGRj_LLh",
        "colab": {
          "base_uri": "https://localhost:8080/"
        },
        "outputId": "e8d8c091-07ee-46cb-93b2-c270bd1d0d25"
      },
      "execution_count": null,
      "outputs": [
        {
          "output_type": "stream",
          "name": "stdout",
          "text": [
            "Hi Sarah, your fav_language is C!\n",
            "Hi Phil, your fav_language is Python!\n"
          ]
        }
      ]
    },
    {
      "cell_type": "code",
      "source": [
        "# Exercise 20 - print out the key-value pairs using not in function\n",
        "favorite_languages = {\n",
        "    'jen': 'python',\n",
        "    'sarah': 'c',\n",
        "    'edward': 'ruby',\n",
        "    'phil': 'python',\n",
        "    }\n",
        "\n",
        "if 'ikeyulestica' not in fav_prog.keys():\n",
        "    print(\"Ikeyulestica, please study hard!!!\")\n"
      ],
      "metadata": {
        "id": "2SnKUKMEAA8t",
        "colab": {
          "base_uri": "https://localhost:8080/"
        },
        "outputId": "380b7ada-b331-4fde-d84e-35a54a7bc936"
      },
      "execution_count": null,
      "outputs": [
        {
          "output_type": "stream",
          "name": "stdout",
          "text": [
            "Ikeyulestica, please study hard!!!\n"
          ]
        }
      ]
    },
    {
      "cell_type": "code",
      "source": [
        "# Exercise 21 - Sort keys in order\n",
        "# Print out the message thanking them to take the poll\n",
        "favorite_languages = {\n",
        "    'jen': 'python',\n",
        "    'sarah': 'c',\n",
        "    'edward': 'ruby',\n",
        "    'phil': 'python',\n",
        "    }\n",
        "#creare a for loop in this case\n",
        "#use the sorted() to sort the key names in alphabetical order\n",
        "#Print out the message thanking them to take the poll\n",
        "\n",
        "for name in sorted(favorite_languages.keys()):\n",
        "    print(name.title() + \", thank you for the taking the poll\")"
      ],
      "metadata": {
        "id": "6QBXlZM1Axk4",
        "colab": {
          "base_uri": "https://localhost:8080/"
        },
        "outputId": "142f716b-a71a-463f-d075-5caf43945a6b"
      },
      "execution_count": 5,
      "outputs": [
        {
          "output_type": "stream",
          "name": "stdout",
          "text": [
            "Edward, thank you for the taking the poll\n",
            "Jen, thank you for the taking the poll\n",
            "Phil, thank you for the taking the poll\n",
            "Sarah, thank you for the taking the poll\n"
          ]
        }
      ]
    },
    {
      "cell_type": "code",
      "source": [
        "# Exercise 22 - Sort values in order\n",
        "# remove redundant value using set() function\n",
        "favorite_languages = {\n",
        "    'jen': 'python',\n",
        "    'sarah': 'c',\n",
        "    'edward': 'ruby',\n",
        "    'phil': 'python',\n",
        "    }\n",
        "#Print a introductory message\n",
        "print(\"The following languages have been mentioned:\")\n",
        "\n",
        "for name in sorted(set(fav_prog.values()),reverse = True):\n",
        "    print(name.title() + \", thank you for the taking the poll\")\n",
        "    print(name.title())\n",
        "\n",
        "\n",
        "\n"
      ],
      "metadata": {
        "id": "CGqvlY1-BQ55",
        "colab": {
          "base_uri": "https://localhost:8080/"
        },
        "outputId": "901abfff-3803-4f00-8f0b-7e35471b85e9"
      },
      "execution_count": 10,
      "outputs": [
        {
          "output_type": "stream",
          "name": "stdout",
          "text": [
            "The following languages have been mentioned:\n",
            "Ruby, thank you for the taking the poll\n",
            "Ruby\n",
            "Python, thank you for the taking the poll\n",
            "Python\n",
            "C, thank you for the taking the poll\n",
            "C\n"
          ]
        }
      ]
    },
    {
      "cell_type": "code",
      "source": [
        "range(30)\n"
      ],
      "metadata": {
        "colab": {
          "base_uri": "https://localhost:8080/"
        },
        "id": "w6F-kzmTwbbC",
        "outputId": "377d6209-e45e-49cc-9919-578983c54db7"
      },
      "execution_count": 17,
      "outputs": [
        {
          "output_type": "execute_result",
          "data": {
            "text/plain": [
              "range(0, 30)"
            ]
          },
          "metadata": {},
          "execution_count": 17
        }
      ]
    },
    {
      "cell_type": "code",
      "source": [
        "# Exercise 23 - append new data into dictionary using function\n",
        "# Make an empty list for storing aliens.\n",
        "aliens = []\n",
        "\n",
        "#create a for loop to make 30 green aliesn\n",
        "#store in a variable named new_alien\n",
        "#using the append() function\n",
        "for alien_number in range(30):\n",
        "    new_alien = {'color':'green','points':5, 'speed':'slow'}\n",
        "    aliens.append(new_alien)\n",
        "\n",
        "#create a for loop and if-elif statement\n",
        "for alien in aliens[0:3]:\n",
        "    if alien['color'] == 'green':\n",
        "       alien['color'] = 'yellow'\n",
        "       alien['speed']='medium'\n",
        "       alien['points'] = 10\n",
        "    elif alien['color'] =='yellow':\n",
        "         alien['color'] = 'red'\n",
        "         alien['speed'] = 'fast'\n",
        "         alien['points'] = 5\n",
        "\n",
        "#show first 5 aliens using for loop\n",
        "for alien in aliens[0:5]:\n",
        "    print(alien)\n",
        "\n",
        "#show how many aliens have been creared using the len()function\n",
        "total_aliens = len(aliens)\n",
        "print(\"Total number of aliens: \" + str(total_aliens))\n",
        "\n"
      ],
      "metadata": {
        "id": "CrP6r-jvBzht",
        "colab": {
          "base_uri": "https://localhost:8080/"
        },
        "outputId": "a7cf3157-4fd3-418e-fbeb-e509620bf52a"
      },
      "execution_count": 22,
      "outputs": [
        {
          "output_type": "stream",
          "name": "stdout",
          "text": [
            "{'color': 'yellow', 'points': 10, 'speed': 'medium'}\n",
            "{'color': 'yellow', 'points': 10, 'speed': 'medium'}\n",
            "{'color': 'yellow', 'points': 10, 'speed': 'medium'}\n",
            "{'color': 'green', 'points': 5, 'speed': 'slow'}\n",
            "{'color': 'green', 'points': 5, 'speed': 'slow'}\n",
            "Total number of aliens: 30\n"
          ]
        }
      ]
    },
    {
      "cell_type": "code",
      "source": [],
      "metadata": {
        "id": "OD-Y6yE3QjmS"
      },
      "execution_count": null,
      "outputs": []
    },
    {
      "cell_type": "code",
      "source": [
        "# Exercise 24 - A list in the dictionary\n",
        "# Store information about a pizza being ordered.\n",
        "pizza = {\n",
        "    'crust': 'thick',\n",
        "    'toppings': ['mushrooms', 'extra cheese'],\n",
        "    }\n",
        "\n",
        "# Summarize the order.\n",
        "\n",
        "crust_type = pizza['crust']\n",
        "topping_list = pizza['toppings']\n",
        "\n",
        "\n",
        "print(\"You ordered a + pizza{crust_type} + with the following toppings:\")\n",
        "\n",
        "for topping in topping_list:\n",
        "   print(f\"    {topping}\")\n"
      ],
      "metadata": {
        "id": "iA-z9NxRDixp",
        "colab": {
          "base_uri": "https://localhost:8080/"
        },
        "outputId": "03d8e263-e3c9-44eb-a72e-31b5c5d7546f"
      },
      "execution_count": 43,
      "outputs": [
        {
          "output_type": "stream",
          "name": "stdout",
          "text": [
            "You ordered a + pizza{crust_type} + with the following toppings:\n",
            "    mushrooms\n",
            "    extra cheese\n"
          ]
        }
      ]
    },
    {
      "cell_type": "code",
      "source": [
        "pizza = {\n",
        "    'crust': 'thick',\n",
        "    'toppings': ['mushrooms', 'extra cheese'],\n",
        "}\n",
        "\n",
        "# Extract information from the dictionary\n",
        "crust_type = pizza['crust']\n",
        "topping_list = pizza['toppings']\n",
        "\n",
        "# Print the summary of the order\n",
        "print(f\"You ordered a {crust_type}-crust pizza with the following toppings:\")\n",
        "for topping in topping_list:\n",
        "    print(f\"    {topping}\")\n"
      ],
      "metadata": {
        "colab": {
          "base_uri": "https://localhost:8080/"
        },
        "id": "FbnVapQUTKoU",
        "outputId": "8b30b40d-ff53-4681-e8ad-81a172c6590f"
      },
      "execution_count": 33,
      "outputs": [
        {
          "output_type": "stream",
          "name": "stdout",
          "text": [
            "You ordered a thick-crust pizza with the following toppings:\n",
            "    mushrooms\n",
            "    extra cheese\n"
          ]
        }
      ]
    },
    {
      "cell_type": "code",
      "source": [],
      "metadata": {
        "id": "RJkmd0iSSmEA"
      },
      "execution_count": null,
      "outputs": []
    },
    {
      "cell_type": "code",
      "source": [
        "# Exercise 25 - a list in the dictionary\n",
        "favorite_languages = {\n",
        "    'jen': ['python', 'ruby'],\n",
        "    'sarah': ['c'],\n",
        "    'edward': ['ruby', 'go'],\n",
        "    'phil':['python', 'haskell'],\n",
        "}\n",
        "\n",
        "#create teo for loops to print message\n",
        "#use items() function to access the key-values pair dictionary\n",
        "#use keyword in\n",
        "for name, languages in favorite_languages.items():\n",
        "    print(name.title() + \"' s favorite languages are:\")\n",
        "    for language in languages:\n",
        "        print(\"\\t\" + language.title())\n"
      ],
      "metadata": {
        "id": "q0MODSGDFsgU",
        "colab": {
          "base_uri": "https://localhost:8080/"
        },
        "outputId": "4b481480-70d5-4047-c342-e123375175e5"
      },
      "execution_count": 45,
      "outputs": [
        {
          "output_type": "stream",
          "name": "stdout",
          "text": [
            "Jen' s favorite languages are:\n",
            "\tPython\n",
            "\tRuby\n",
            "Sarah' s favorite languages are:\n",
            "\tC\n",
            "Edward' s favorite languages are:\n",
            "\tRuby\n",
            "\tGo\n",
            "Phil' s favorite languages are:\n",
            "\tPython\n",
            "\tHaskell\n"
          ]
        }
      ]
    },
    {
      "cell_type": "code",
      "source": [
        "# Exercise 26 - A dictionary in a dictionary\n",
        "#Given the following scientist dictionar\n",
        "users = {\n",
        "    'aeinstein': {\n",
        "        'first':'albert',\n",
        "        'last':'einstein',\n",
        "        'location':'priceton',\n",
        "    },\n",
        "    'mcurie': {\n",
        "        'first':'marie',\n",
        "        'last':'curie',\n",
        "        'location':'paris',\n",
        "    }\n",
        "}\n",
        "\n",
        "#create a for loop to print the message\n",
        "#use the items() function to access the key-values pairs in the dictionaries\n",
        "for username, user_info in users.items():\n",
        "    print(\"username:\" + username.title())\n",
        "    full_name = user_info['first'] + \" \" + user_info['last']\n",
        "    location = user_info['location']\n",
        "\n",
        "    print(\"\\tFull name:\" + full_name.title())\n",
        "    print(\"\\tlocation:\" + location.title())\n",
        ""
      ],
      "metadata": {
        "id": "wWibIDl0Gw2O",
        "colab": {
          "base_uri": "https://localhost:8080/"
        },
        "outputId": "d1720758-5ba4-4008-aa7f-3e2fbdcc9ae1"
      },
      "execution_count": 52,
      "outputs": [
        {
          "output_type": "stream",
          "name": "stdout",
          "text": [
            "username:Aeinstein\n",
            "\tFull name:Albert Einstein\n",
            "\tlocation:Priceton\n",
            "username:Mcurie\n",
            "\tFull name:Marie Curie\n",
            "\tlocation:Paris\n"
          ]
        }
      ]
    },
    {
      "cell_type": "code",
      "source": [],
      "metadata": {
        "id": "BaXmOqvVYpvt"
      },
      "execution_count": null,
      "outputs": []
    },
    {
      "cell_type": "markdown",
      "source": [
        "Create a code based on the data provided to get bellow output\n",
        "\n",
        "username: aeinstein\n",
        "    Full name : Albert Einstein\n",
        "    Location: Priceton\n",
        "\n",
        "username: mcurie\n",
        "    Full name : Marie Curie\n",
        "    Location: Paris   "
      ],
      "metadata": {
        "id": "QvBPiqNlYITE"
      }
    },
    {
      "cell_type": "code",
      "source": [
        "users = {\n",
        "    'aeinstein': {\n",
        "        'first': 'albert',\n",
        "        'last': 'einstein',\n",
        "        'location': 'princeton',\n",
        "    },\n",
        "    'mcurie': {\n",
        "        'first': 'marie',\n",
        "        'last': 'curie',\n",
        "        'location': 'paris',\n",
        "    }\n",
        "}\n",
        "\n",
        "# Iterate through the dictionary and print user information\n",
        "for username, user_info in users.items():\n",
        "    full_name = f\"{user_info['first'].title()} {user_info['last'].title()}\"\n",
        "    location = user_info['location'].title()\n",
        "\n",
        "    print(f\"username: {username}\")\n",
        "    print(f\"Full name: {full_name}\")\n",
        "    print(f\"Location: {location}\\n\")\n",
        "\n",
        "\n"
      ],
      "metadata": {
        "colab": {
          "base_uri": "https://localhost:8080/"
        },
        "id": "4f5yRN0-Y76L",
        "outputId": "31edb5df-d944-4c32-d3b8-ac5863eb6b59"
      },
      "execution_count": 49,
      "outputs": [
        {
          "output_type": "stream",
          "name": "stdout",
          "text": [
            "username: aeinstein\n",
            "Full name: Albert Einstein\n",
            "Location: Princeton\n",
            "\n",
            "username: mcurie\n",
            "Full name: Marie Curie\n",
            "Location: Paris\n",
            "\n"
          ]
        }
      ]
    },
    {
      "cell_type": "code",
      "source": [
        "# Exercise 27 - using input()\n",
        "# Use the input() function to get a response from user\n",
        "# Print out the message\n",
        "message = input(\"Tell me something, and I will repeat it back to you: \")\n",
        "print(message)\n",
        "\n",
        "# Use the input() function to get user's name\n",
        "# print out the message\n",
        "nama = input(\"Please tell me your name: \")\n",
        "print(\"Hello, \" + nama + \"!\")\n",
        "\n",
        "# Use the input() function to get user's first name\n",
        "# print out the message\n",
        "msg = \"If you tell us who you are, we can personalize a message for you.\"\n",
        "msg += \"What is your first name\"\n",
        "\n",
        "name = input(msg)\n",
        "print(\"Hello, \" + name + \"!\")\n"
      ],
      "metadata": {
        "id": "xY2CS0_CIEqr",
        "colab": {
          "base_uri": "https://localhost:8080/"
        },
        "outputId": "c4c8e714-a3ee-40b7-da0d-aa3603baee49"
      },
      "execution_count": 53,
      "outputs": [
        {
          "name": "stdout",
          "output_type": "stream",
          "text": [
            "Tell me something, and I will repeat it back to you: ikeyulestica\n",
            "ikeyulestica\n",
            "Please tell me your name: ikeyulestica\n",
            "Hello, ikeyulestica!\n",
            "If you tell us who you are, we can personalize a message for you.What is your first nameikeyulestica sapril\n"
          ]
        }
      ]
    },
    {
      "cell_type": "code",
      "source": [
        "# Using the input() function to get the age of users\n",
        "age_str = input(\"How old are you? \")\n",
        "\n",
        "# Convert the input string to an integer\n",
        "age = int(age_str)\n",
        "\n",
        "# Perform the logical test\n",
        "# Check if the age is greater than or equal to 18\n",
        "is_adult = age >= 18\n",
        "\n",
        "# Print the result of the test\n",
        "print(f\"Are you an adult? {is_adult}\")\n"
      ],
      "metadata": {
        "colab": {
          "base_uri": "https://localhost:8080/"
        },
        "id": "cjeHNDnvgr3l",
        "outputId": "b77bd852-fabf-4b1b-b9c9-b2e3ffd92492"
      },
      "execution_count": 57,
      "outputs": [
        {
          "output_type": "stream",
          "name": "stdout",
          "text": [
            "How old are you? 18\n",
            "Are you an adult? True\n"
          ]
        }
      ]
    },
    {
      "cell_type": "code",
      "source": [
        "# Get the height in cm from the user\n",
        "height= int(input(\"How tall are you, in cm?\"))\n",
        "\n",
        "\n",
        "# Checking the condition using if-else statement\n",
        "if height >= 90:\n",
        "    print(\"You'll be able to ride.\")\n",
        "else:\n",
        "    print(\"You'll be able to ride when you're a little older.\")\n"
      ],
      "metadata": {
        "colab": {
          "base_uri": "https://localhost:8080/"
        },
        "id": "GCtXF6_Whp5h",
        "outputId": "903033e3-918d-4bfe-b9f7-bac5574fb19f"
      },
      "execution_count": 59,
      "outputs": [
        {
          "output_type": "stream",
          "name": "stdout",
          "text": [
            "How tall are you, in cm?90\n",
            "You'll be able to ride.\n"
          ]
        }
      ]
    },
    {
      "cell_type": "code",
      "source": [
        "# Exercise 30 - The modulo operator to print message\n",
        "# Get a number from the user\n",
        "number = int(input(\"Enter a number, and I'll tell you if it's even or odd: \"))\n",
        "\n",
        "\n",
        "# Check if the number is even or odd using the modulo operator (%)\n",
        "if number % 2 == 0:\n",
        "    print(\"The number is even.\")\n",
        "else:\n",
        "    print(\"The number is odd.\")\n"
      ],
      "metadata": {
        "id": "x9OlZPDYL2ne",
        "colab": {
          "base_uri": "https://localhost:8080/"
        },
        "outputId": "0e7cb1f7-8674-4d97-f9be-c682ac29ae78"
      },
      "execution_count": 62,
      "outputs": [
        {
          "output_type": "stream",
          "name": "stdout",
          "text": [
            "Enter a number, and I'll tell you if it's even or odd: 77\n",
            "The number is odd.\n"
          ]
        }
      ]
    }
  ]
}